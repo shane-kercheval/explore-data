{
 "cells": [
  {
   "cell_type": "code",
   "execution_count": 1,
   "metadata": {},
   "outputs": [
    {
     "name": "stdout",
     "output_type": "stream",
     "text": [
      "{'xxxxx': <llm_workflow.agents.Tool object at 0xffff6330a350>, 'yyyyyy': <llm_workflow.agents.Tool object at 0xffff63308410>}\n"
     ]
    }
   ],
   "source": [
    "from llm_workflow.agents import Tool, OpenAIFunctions\n",
    "\n",
    "import yaml\n",
    "with open('/code/source/notebooks/openai_functions.yml') as f:\n",
    "    tools = yaml.safe_load(f)\n",
    "\n",
    "tools = {x['name']: Tool.from_dict(x) for x in tools}\n",
    "print(tools)"
   ]
  },
  {
   "cell_type": "code",
   "execution_count": 2,
   "metadata": {},
   "outputs": [],
   "source": [
    "# tools = OpenAIFunctions(\n",
    "#     model_name='gpt-3.5-turbo-0613',\n",
    "#     tools=tools.values(),\n",
    "# )\n",
    "# question = \"I want to plot a graph of amount which is numeric and amount_2 which is numeric.\"\n",
    "# response = tools(question)\n",
    "# response"
   ]
  },
  {
   "cell_type": "code",
   "execution_count": null,
   "metadata": {},
   "outputs": [],
   "source": []
  },
  {
   "cell_type": "markdown",
   "metadata": {},
   "source": [
    "```\n",
    "- name: ask_weather\n",
    "  description: Use this function to answer questions about the weather for a particular city.\n",
    "  inputs:\n",
    "    location:\n",
    "      description: The city and state, e.g. San Francisco, CA\n",
    "      type: string\n",
    "    unit:\n",
    "      description: The temperature unit to use. The model needs to infer this from the `location`.\n",
    "      type: string\n",
    "      enum:\n",
    "        - celsius\n",
    "        - fahrenheit\n",
    "  required:\n",
    "    - location\n",
    "    - unit\n",
    "```"
   ]
  },
  {
   "cell_type": "markdown",
   "metadata": {},
   "source": [
    "```\n",
    " 'unit': {\n",
    "                'type': 'string',\n",
    "                'enum': ['celsius', 'fahrenheit'],\n",
    "                'description': \"The temperature unit to use. The model needs to infer this from the `location`.\",  # noqa\n",
    "        }\n",
    "```"
   ]
  },
  {
   "cell_type": "code",
   "execution_count": 3,
   "metadata": {},
   "outputs": [
    {
     "data": {
      "text/plain": [
       "{'checking_balance': 'string',\n",
       " 'months_loan_duration': 'numeric',\n",
       " 'credit_history': 'string',\n",
       " 'purpose': 'string',\n",
       " 'amount': 'numeric',\n",
       " 'savings_balance': 'string',\n",
       " 'employment_duration': 'string',\n",
       " 'percent_of_income': 'numeric',\n",
       " 'years_at_residence': 'numeric',\n",
       " 'age': 'numeric',\n",
       " 'other_credit': 'string',\n",
       " 'housing': 'string',\n",
       " 'existing_loans_count': 'numeric',\n",
       " 'job': 'string',\n",
       " 'dependents': 'numeric',\n",
       " 'phone': 'string',\n",
       " 'default': 'string'}"
      ]
     },
     "execution_count": 3,
     "metadata": {},
     "output_type": "execute_result"
    }
   ],
   "source": [
    "column_types = {'checking_balance': 'string', 'months_loan_duration': 'numeric', 'credit_history': 'string', 'purpose': 'string', 'amount': 'numeric', 'savings_balance': 'string', 'employment_duration': 'string', 'percent_of_income': 'numeric', 'years_at_residence': 'numeric', 'age': 'numeric', 'other_credit': 'string', 'housing': 'string', 'existing_loans_count': 'numeric', 'job': 'string', 'dependents': 'numeric', 'phone': 'string', 'default': 'string'}\n",
    "column_types"
   ]
  },
  {
   "cell_type": "code",
   "execution_count": 4,
   "metadata": {},
   "outputs": [
    {
     "name": "stdout",
     "output_type": "stream",
     "text": [
      "15\n"
     ]
    },
    {
     "data": {
      "text/plain": [
       "10"
      ]
     },
     "execution_count": 4,
     "metadata": {},
     "output_type": "execute_result"
    }
   ],
   "source": [
    "import uuid\n",
    "\n",
    "with open('/code/source/config/graphing_configurations.yml') as f:\n",
    "    configs = yaml.safe_load(f)['configurations']\n",
    "\n",
    "print(len(configs))\n",
    "\n",
    "def build_tools_from_graph_configs(configs: dict, column_types: dict) -> list[Tool]:\n",
    "    tools = []\n",
    "    for config in configs:\n",
    "        # config = configs[0]\n",
    "        variables = {k:v for k, v in config['selected_variables'].items() if v is not None}\n",
    "        required_variables = list(variables.keys())\n",
    "        for graph_type in config['graph_types']:\n",
    "            if 'agent_description' not in graph_type:\n",
    "                continue\n",
    "            \n",
    "            # description = graph_type['info']\n",
    "            agent_description = graph_type['agent_description']\n",
    "            agent_description = agent_description.strip() if agent_description else ''\n",
    "            description = f\"({graph_type['name']}) {graph_type['description']} {agent_description}\"\n",
    "            for var, types in variables.items():\n",
    "                replacement = f\" axis variable (which can be a column of type {', '.join(types)})\"\n",
    "                description = description.replace(\n",
    "                    f\"{{{{{var}}}}}\",\n",
    "                    f\"{var.replace('_variable',replacement)}\"\n",
    "                ).strip()\n",
    "            # description = f\"({graph_type['name']}) \"\n",
    "\n",
    "            # graph_type = config['graph_types'][0]\n",
    "            if 'optional_variables' in graph_type:\n",
    "                optional_variables = graph_type['optional_variables']\n",
    "                variables.update({k:v['types'] for k, v in optional_variables.items() if v is not None})\n",
    "            # print(f\"variables: {variables}\")\n",
    "            # print(f\"required_variables: {required_variables}\")\n",
    "            valid_graph = True\n",
    "            inputs = {}\n",
    "            for k, valid_column_types in variables.items():\n",
    "                valid_column_names = [n for n, t in column_types.items() if t in valid_column_types]\n",
    "                inputs[k] = {\n",
    "                    'type': 'string',\n",
    "                    'description': f\"{k.replace('_variable', ' axis')} that supports {', '.join(valid_column_types)} columns\",   # noqa\n",
    "                }\n",
    "                if len(valid_column_names) == 0:\n",
    "                    if k in required_variables:\n",
    "                        # if there are no valid columns that support the corresponding types and the\n",
    "                        # variable is required (e.g. there are no dates columns in the dataset and a\n",
    "                        # date is required for the graph), then skip this graph/tool altogether\n",
    "                        valid_graph = False\n",
    "                        break\n",
    "                else:\n",
    "                    inputs[k]['enum'] = valid_column_names\n",
    "            if valid_graph:\n",
    "                # inputs = {'inputs': inputs}\n",
    "                tools.append(Tool(\n",
    "                    name=str(uuid.uuid4()),\n",
    "                    description=description,\n",
    "                    inputs=inputs,\n",
    "                    required=required_variables,\n",
    "                ))\n",
    "    return tools\n",
    "\n",
    "tools = build_tools_from_graph_configs(configs, column_types)\n",
    "len(tools)"
   ]
  },
  {
   "cell_type": "code",
   "execution_count": 5,
   "metadata": {},
   "outputs": [
    {
     "data": {
      "text/plain": [
       "{'name': '60716c36-4f96-436c-905e-6fb00b121e25',\n",
       " 'description': '(heatmap - count distinct) Heatmap showing the count of distinct values of z axis variable (which can be a column of type boolean, string, categorical) for each combination of x axis variable (which can be a column of type boolean, string, categorical), y axis variable (which can be a column of type boolean, string, categorical). This plot shows the count of distinct values of a non-numeric variable across two non-numeric variables.',\n",
       " 'parameters': {'type': 'object',\n",
       "  'properties': {'x_variable': {'type': 'string',\n",
       "    'description': 'x axis that supports boolean, string, categorical columns',\n",
       "    'enum': ['checking_balance',\n",
       "     'credit_history',\n",
       "     'purpose',\n",
       "     'savings_balance',\n",
       "     'employment_duration',\n",
       "     'other_credit',\n",
       "     'housing',\n",
       "     'job',\n",
       "     'phone',\n",
       "     'default']},\n",
       "   'y_variable': {'type': 'string',\n",
       "    'description': 'y axis that supports boolean, string, categorical columns',\n",
       "    'enum': ['checking_balance',\n",
       "     'credit_history',\n",
       "     'purpose',\n",
       "     'savings_balance',\n",
       "     'employment_duration',\n",
       "     'other_credit',\n",
       "     'housing',\n",
       "     'job',\n",
       "     'phone',\n",
       "     'default']},\n",
       "   'z_variable': {'type': 'string',\n",
       "    'description': 'z axis that supports boolean, string, categorical columns',\n",
       "    'enum': ['checking_balance',\n",
       "     'credit_history',\n",
       "     'purpose',\n",
       "     'savings_balance',\n",
       "     'employment_duration',\n",
       "     'other_credit',\n",
       "     'housing',\n",
       "     'job',\n",
       "     'phone',\n",
       "     'default']},\n",
       "   'facet_variable': {'type': 'string',\n",
       "    'description': 'facet axis that supports boolean, string, categorical columns',\n",
       "    'enum': ['checking_balance',\n",
       "     'credit_history',\n",
       "     'purpose',\n",
       "     'savings_balance',\n",
       "     'employment_duration',\n",
       "     'other_credit',\n",
       "     'housing',\n",
       "     'job',\n",
       "     'phone',\n",
       "     'default']}},\n",
       "  'required': ['x_variable', 'y_variable', 'z_variable']}}"
      ]
     },
     "execution_count": 5,
     "metadata": {},
     "output_type": "execute_result"
    }
   ],
   "source": [
    "tools[-1].to_dict()"
   ]
  },
  {
   "cell_type": "code",
   "execution_count": 6,
   "metadata": {},
   "outputs": [],
   "source": [
    "# prompt = \"Plot the counts of checking_balance on the x axis and credit_history on the y axis.\"\n",
    "# prompt = \"Plot the duration of the loan against the amount.\"\n",
    "# prompt = \"Plot the duration of the loan against the amount of the loan and age.\"\n",
    "prompt = \"Plot a 3d scatter the duration of the loan against the amount of the loan and age.\""
   ]
  },
  {
   "cell_type": "code",
   "execution_count": 7,
   "metadata": {},
   "outputs": [
    {
     "name": "stdout",
     "output_type": "stream",
     "text": [
      "\n",
      "The user is asking to create a plot based on the following column names and types. Infer\n",
      "the correct column names and the correct axes from the users question.\n",
      "Choose a tool that uses all of the columns listed by the user. Prioritize the required columns.\n",
      "\n",
      "Valid columns and types: \n",
      "\n",
      "checking_balance: string\n",
      "months_loan_duration: numeric\n",
      "credit_history: string\n",
      "purpose: string\n",
      "amount: numeric\n",
      "savings_balance: string\n",
      "employment_duration: string\n",
      "percent_of_income: numeric\n",
      "years_at_residence: numeric\n",
      "age: numeric\n",
      "other_credit: string\n",
      "housing: string\n",
      "existing_loans_count: numeric\n",
      "job: string\n",
      "dependents: numeric\n",
      "phone: string\n",
      "default: string\n",
      "\n",
      "User question: Plot a 3d scatter the duration of the loan against the amount of the loan and age.\n",
      "\n"
     ]
    },
    {
     "data": {
      "text/plain": [
       "[(<llm_workflow.agents.Tool at 0xffff632a4750>,\n",
       "  {'x_variable': 'months_loan_duration',\n",
       "   'y_variable': 'amount',\n",
       "   'z_variable': 'age'})]"
      ]
     },
     "execution_count": 7,
     "metadata": {},
     "output_type": "execute_result"
    }
   ],
   "source": [
    "agent = OpenAIFunctions(\n",
    "    model_name='gpt-3.5-turbo-1106',\n",
    "    tools=tools,\n",
    ")\n",
    "formatted_colum_names = '\\n'.join([f\"{k}: {v}\" for k, v in column_types.items()])\n",
    "template = f\"\"\"\n",
    "The user is asking to create a plot based on the following column names and types. Infer\n",
    "the correct column names and the correct axes from the users question.\n",
    "Choose a tool that uses all of the columns listed by the user. Prioritize the required columns.\n",
    "\n",
    "Valid columns and types: \n",
    "\n",
    "{formatted_colum_names}\n",
    "\n",
    "User question: {prompt}\n",
    "\"\"\"\n",
    "print(template)\n",
    "response = agent(template)\n",
    "response"
   ]
  },
  {
   "cell_type": "code",
   "execution_count": null,
   "metadata": {},
   "outputs": [],
   "source": []
  },
  {
   "cell_type": "code",
   "execution_count": 8,
   "metadata": {},
   "outputs": [
    {
     "name": "stdout",
     "output_type": "stream",
     "text": [
      "(scatter-3d) Shows the relationship between x axis variable (which can be a column of type numeric), y axis variable (which can be a column of type numeric), and z axis variable (which can be a column of type numeric). A 3D scatter plot is the best option when there are three numeric variables.\n",
      "['x_variable', 'y_variable', 'z_variable']\n",
      "{'x_variable': 'months_loan_duration', 'y_variable': 'amount', 'z_variable': 'age'}\n"
     ]
    }
   ],
   "source": [
    "tool, args = response[0]\n",
    "print(tool.description)\n",
    "print(tool.required)\n",
    "print(args)\n",
    "# tool.inputs|"
   ]
  },
  {
   "cell_type": "code",
   "execution_count": 9,
   "metadata": {},
   "outputs": [
    {
     "name": "stdout",
     "output_type": "stream",
     "text": [
      "Total Cost:            $0.00356\n",
      "Total Tokens:          3,507\n",
      "Total Prompt Tokens:   3,457\n",
      "Total Response Tokens: 50\n"
     ]
    }
   ],
   "source": [
    "print(f\"Total Cost:            ${agent.history()[0].cost:.5f}\")\n",
    "print(f\"Total Tokens:          {agent.history()[0].total_tokens:,}\")\n",
    "print(f\"Total Prompt Tokens:   {agent.history()[0].input_tokens:,}\")\n",
    "print(f\"Total Response Tokens: {agent.history()[0].response_tokens:,}\")"
   ]
  },
  {
   "cell_type": "code",
   "execution_count": 10,
   "metadata": {},
   "outputs": [
    {
     "ename": "IndexError",
     "evalue": "list index out of range",
     "output_type": "error",
     "traceback": [
      "\u001b[0;31m---------------------------------------------------------------------------\u001b[0m",
      "\u001b[0;31mIndexError\u001b[0m                                Traceback (most recent call last)",
      "\u001b[1;32m/code/source/notebooks/sandbox.ipynb Cell 13\u001b[0m line \u001b[0;36m1\n\u001b[0;32m----> <a href='vscode-notebook-cell://attached-container%2B7b22636f6e7461696e65724e616d65223a222f6578706c6f72652d646174612d626173682d31222c2273657474696e6773223a7b22636f6e74657874223a226465736b746f702d6c696e7578227d7d/code/source/notebooks/sandbox.ipynb#X53sdnNjb2RlLXJlbW90ZQ%3D%3D?line=0'>1</a>\u001b[0m tool, args \u001b[39m=\u001b[39m response[\u001b[39m1\u001b[39;49m]\n\u001b[1;32m      <a href='vscode-notebook-cell://attached-container%2B7b22636f6e7461696e65724e616d65223a222f6578706c6f72652d646174612d626173682d31222c2273657474696e6773223a7b22636f6e74657874223a226465736b746f702d6c696e7578227d7d/code/source/notebooks/sandbox.ipynb#X53sdnNjb2RlLXJlbW90ZQ%3D%3D?line=1'>2</a>\u001b[0m \u001b[39mprint\u001b[39m(tool\u001b[39m.\u001b[39mdescription)\n\u001b[1;32m      <a href='vscode-notebook-cell://attached-container%2B7b22636f6e7461696e65724e616d65223a222f6578706c6f72652d646174612d626173682d31222c2273657474696e6773223a7b22636f6e74657874223a226465736b746f702d6c696e7578227d7d/code/source/notebooks/sandbox.ipynb#X53sdnNjb2RlLXJlbW90ZQ%3D%3D?line=2'>3</a>\u001b[0m \u001b[39mprint\u001b[39m(args)\n",
      "\u001b[0;31mIndexError\u001b[0m: list index out of range"
     ]
    }
   ],
   "source": [
    "tool, args = response[1]\n",
    "print(tool.description)\n",
    "print(args)"
   ]
  },
  {
   "cell_type": "code",
   "execution_count": null,
   "metadata": {},
   "outputs": [],
   "source": []
  }
 ],
 "metadata": {
  "kernelspec": {
   "display_name": "Python 3",
   "language": "python",
   "name": "python3"
  },
  "language_info": {
   "codemirror_mode": {
    "name": "ipython",
    "version": 3
   },
   "file_extension": ".py",
   "mimetype": "text/x-python",
   "name": "python",
   "nbconvert_exporter": "python",
   "pygments_lexer": "ipython3",
   "version": "3.11.5"
  }
 },
 "nbformat": 4,
 "nbformat_minor": 2
}
