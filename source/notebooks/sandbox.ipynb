{
 "cells": [
  {
   "cell_type": "code",
   "execution_count": 1,
   "metadata": {},
   "outputs": [
    {
     "name": "stdout",
     "output_type": "stream",
     "text": [
      "{'xxxxx': <llm_workflow.agents.Tool object at 0xffff6330a350>, 'yyyyyy': <llm_workflow.agents.Tool object at 0xffff63308410>}\n"
     ]
    }
   ],
   "source": [
    "from llm_workflow.agents import Tool, OpenAIFunctions\n",
    "\n",
    "import yaml\n",
    "with open('/code/source/notebooks/openai_functions.yml') as f:\n",
    "    tools = yaml.safe_load(f)\n",
    "\n",
    "tools = {x['name']: Tool.from_dict(x) for x in tools}\n",
    "print(tools)"
   ]
  },
  {
   "cell_type": "code",
   "execution_count": 2,
   "metadata": {},
   "outputs": [],
   "source": [
    "# tools = OpenAIFunctions(\n",
    "#     model_name='gpt-3.5-turbo-0613',\n",
    "#     tools=tools.values(),\n",
    "# )\n",
    "# question = \"I want to plot a graph of amount which is numeric and amount_2 which is numeric.\"\n",
    "# response = tools(question)\n",
    "# response"
   ]
  },
  {
   "cell_type": "code",
   "execution_count": null,
   "metadata": {},
   "outputs": [],
   "source": []
  },
  {
   "cell_type": "markdown",
   "metadata": {},
   "source": [
    "```\n",
    "- name: ask_weather\n",
    "  description: Use this function to answer questions about the weather for a particular city.\n",
    "  inputs:\n",
    "    location:\n",
    "      description: The city and state, e.g. San Francisco, CA\n",
    "      type: string\n",
    "    unit:\n",
    "      description: The temperature unit to use. The model needs to infer this from the `location`.\n",
    "      type: string\n",
    "      enum:\n",
    "        - celsius\n",
    "        - fahrenheit\n",
    "  required:\n",
    "    - location\n",
    "    - unit\n",
    "```"
   ]
  },
  {
   "cell_type": "markdown",
   "metadata": {},
   "source": [
    "```\n",
    " 'unit': {\n",
    "                'type': 'string',\n",
    "                'enum': ['celsius', 'fahrenheit'],\n",
    "                'description': \"The temperature unit to use. The model needs to infer this from the `location`.\",  # noqa\n",
    "        }\n",
    "```"
   ]
  },
  {
   "cell_type": "code",
   "execution_count": 3,
   "metadata": {},
   "outputs": [
    {
     "data": {
      "text/plain": [
       "{'checking_balance': 'string',\n",
       " 'months_loan_duration': 'numeric',\n",
       " 'credit_history': 'string',\n",
       " 'purpose': 'string',\n",
       " 'amount': 'numeric',\n",
       " 'savings_balance': 'string',\n",
       " 'employment_duration': 'string',\n",
       " 'percent_of_income': 'numeric',\n",
       " 'years_at_residence': 'numeric',\n",
       " 'age': 'numeric',\n",
       " 'other_credit': 'string',\n",
       " 'housing': 'string',\n",
       " 'existing_loans_count': 'numeric',\n",
       " 'job': 'string',\n",
       " 'dependents': 'numeric',\n",
       " 'phone': 'string',\n",
       " 'default': 'string'}"
      ]
     },
     "execution_count": 3,
     "metadata": {},
     "output_type": "execute_result"
    }
   ],
   "source": [
    "column_types = {'checking_balance': 'string', 'months_loan_duration': 'numeric', 'credit_history': 'string', 'purpose': 'string', 'amount': 'numeric', 'savings_balance': 'string', 'employment_duration': 'string', 'percent_of_income': 'numeric', 'years_at_residence': 'numeric', 'age': 'numeric', 'other_credit': 'string', 'housing': 'string', 'existing_loans_count': 'numeric', 'job': 'string', 'dependents': 'numeric', 'phone': 'string', 'default': 'string'}\n",
    "column_types"
   ]
  },
  {
   "cell_type": "code",
   "execution_count": 61,
   "metadata": {},
   "outputs": [
    {
     "name": "stdout",
     "output_type": "stream",
     "text": [
      "15\n",
      "10\n"
     ]
    }
   ],
   "source": [
    "import uuid\n",
    "\n",
    "with open('/code/source/config/graphing_configurations.yml') as f:\n",
    "    configs = yaml.safe_load(f)['configurations']\n",
    "\n",
    "print(len(configs))\n",
    "\n",
    "def build_tools_from_graph_configs(configs: dict, column_types: dict) -> list[Tool]:\n",
    "    # TODO: need to add graph_type in order to support e.g. P( y | x ) chart\n",
    "    # TODO: i might have to add graph_type as another variable in yaml since it's not always\n",
    "    # valid. Only certain graphs need to specify the graph_type. Actually i'm not sure that\n",
    "    # is True.. i think i can just pass graph_type in the same way as x_variable, etc.\n",
    "    # I just need to add it to the inputs dict or extract it from the tool name. or something\n",
    "    # BUT there are other variables like `Aggregation:` (sum, avg, etc.) that are not always\n",
    "    # valid.\n",
    "    #TODO: would also be nice to specify monthly/weekly/daily etc. for date variables\n",
    "    tools = []\n",
    "    for config in configs:\n",
    "        # config = configs[0]\n",
    "        variables = {k:v for k, v in config['selected_variables'].items() if v is not None}\n",
    "        required_variables = list(variables.keys())\n",
    "        for graph_type in config['graph_types']:\n",
    "            if 'agent' not in graph_type:\n",
    "                continue\n",
    "            # description = graph_type['info']\n",
    "            if graph_type['agent'] and 'description' in graph_type['agent']:\n",
    "                agent_description = graph_type['agent']['description']\n",
    "                agent_description = agent_description.strip()\n",
    "            else:\n",
    "                agent_description = ''\n",
    "            description = f\"({graph_type['name']}) {graph_type['description']} {agent_description}\"\n",
    "            for var, types in variables.items():\n",
    "                replacement = f\" axis variable (which can be a column of type {', '.join(types)})\"\n",
    "                description = description.replace(\n",
    "                    f\"{{{{{var}}}}}\",\n",
    "                    f\"{var.replace('_variable',replacement)}\"\n",
    "                ).strip()\n",
    "            # description = f\"({graph_type['name']}) \"\n",
    "\n",
    "            # graph_type = config['graph_types'][0]\n",
    "            if 'optional_variables' in graph_type:\n",
    "                optional_variables = graph_type['optional_variables']\n",
    "                variables.update({k:v['types'] for k, v in optional_variables.items() if v is not None})\n",
    "            # print(f\"variables: {variables}\")\n",
    "            # print(f\"required_variables: {required_variables}\")\n",
    "            valid_graph = True\n",
    "            inputs = {}\n",
    "            for k, valid_column_types in variables.items():\n",
    "                valid_column_names = [n for n, t in column_types.items() if t in valid_column_types]\n",
    "                inputs[k] = {\n",
    "                    'type': 'string',\n",
    "                    'description': f\"{k.replace('_variable', ' axis')} that supports {', '.join(valid_column_types)} columns\",   # noqa\n",
    "                }\n",
    "                if len(valid_column_names) == 0:\n",
    "                    if k in required_variables:\n",
    "                        # if there are no valid columns that support the corresponding types and the\n",
    "                        # variable is required (e.g. there are no dates columns in the dataset and a\n",
    "                        # date is required for the graph), then skip this graph/tool altogether\n",
    "                        valid_graph = False\n",
    "                        break\n",
    "                else:\n",
    "                    inputs[k]['enum'] = valid_column_names\n",
    "\n",
    "            if graph_type['agent'] and 'variables' in graph_type['agent']:\n",
    "                for agent_var in graph_type['agent']['variables']:\n",
    "                    assert len(agent_var) == 1\n",
    "                    agent_var_name = next(iter(agent_var.keys()))\n",
    "                    inputs[agent_var_name] = {\n",
    "                        'type': 'string',\n",
    "                        'description': agent_var[agent_var_name]['description'],\n",
    "                        'enum': agent_var[agent_var_name]['options'],\n",
    "                    }\n",
    "\n",
    "            if valid_graph:\n",
    "                # inputs = {'inputs': inputs}\n",
    "                tool = Tool(\n",
    "                    name=str(uuid.uuid4()),\n",
    "                    description=description,\n",
    "                    inputs=inputs,\n",
    "                    required=required_variables,\n",
    "                )\n",
    "                tool.graph_name = graph_type['name']\n",
    "                tools.append(tool)\n",
    "    return tools\n",
    "\n",
    "tools = build_tools_from_graph_configs(configs, column_types)\n",
    "print(len(tools))"
   ]
  },
  {
   "cell_type": "code",
   "execution_count": 59,
   "metadata": {},
   "outputs": [
    {
     "name": "stdout",
     "output_type": "stream",
     "text": [
      "1c726ae3-4f14-4407-9c8e-1bdef1661764\n",
      "(box) Shows the distribution of x axis variable (which can be a column of type numeric). Boxplots are useful for understanding the distribution of the data and identifying outliers.\n",
      "{'x_variable': {'type': 'string', 'description': 'x axis that supports numeric columns', 'enum': ['months_loan_duration', 'amount', 'percent_of_income', 'years_at_residence', 'age', 'existing_loans_count', 'dependents']}, 'color_variable': {'type': 'string', 'description': 'color axis that supports date, boolean, string, categorical columns', 'enum': ['checking_balance', 'credit_history', 'purpose', 'savings_balance', 'employment_duration', 'other_credit', 'housing', 'job', 'phone', 'default']}, 'facet_variable': {'type': 'string', 'description': 'facet axis that supports date, boolean, string, categorical columns', 'enum': ['checking_balance', 'credit_history', 'purpose', 'savings_balance', 'employment_duration', 'other_credit', 'housing', 'job', 'phone', 'default']}}\n",
      "['x_variable']\n",
      "\n",
      "cdec25f5-dc0a-4b23-bb21-96c660140330\n",
      "(histogram) Shows the distribution of x axis variable (which can be a column of type numeric). Histograms are useful for understanding the distribution of at a more granular level compared to boxplots.\n",
      "{'x_variable': {'type': 'string', 'description': 'x axis that supports numeric columns', 'enum': ['months_loan_duration', 'amount', 'percent_of_income', 'years_at_residence', 'age', 'existing_loans_count', 'dependents']}, 'color_variable': {'type': 'string', 'description': 'color axis that supports date, boolean, string, categorical columns', 'enum': ['checking_balance', 'credit_history', 'purpose', 'savings_balance', 'employment_duration', 'other_credit', 'housing', 'job', 'phone', 'default']}, 'facet_variable': {'type': 'string', 'description': 'facet axis that supports date, boolean, string, categorical columns', 'enum': ['checking_balance', 'credit_history', 'purpose', 'savings_balance', 'employment_duration', 'other_credit', 'housing', 'job', 'phone', 'default']}}\n",
      "['x_variable']\n",
      "\n",
      "d8d314af-0dea-41c2-a45a-9782b93672b2\n",
      "(scatter) Shows the relationship between x axis variable (which can be a column of type numeric) and y axis variable (which can be a column of type numeric).\n",
      "{'x_variable': {'type': 'string', 'description': 'x axis that supports numeric columns', 'enum': ['months_loan_duration', 'amount', 'percent_of_income', 'years_at_residence', 'age', 'existing_loans_count', 'dependents']}, 'y_variable': {'type': 'string', 'description': 'y axis that supports numeric columns', 'enum': ['months_loan_duration', 'amount', 'percent_of_income', 'years_at_residence', 'age', 'existing_loans_count', 'dependents']}, 'color_variable': {'type': 'string', 'description': 'color axis that supports numeric, date, boolean, string, categorical columns', 'enum': ['checking_balance', 'months_loan_duration', 'credit_history', 'purpose', 'amount', 'savings_balance', 'employment_duration', 'percent_of_income', 'years_at_residence', 'age', 'other_credit', 'housing', 'existing_loans_count', 'job', 'dependents', 'phone', 'default']}, 'size_variable': {'type': 'string', 'description': 'size axis that supports numeric columns', 'enum': ['months_loan_duration', 'amount', 'percent_of_income', 'years_at_residence', 'age', 'existing_loans_count', 'dependents']}, 'facet_variable': {'type': 'string', 'description': 'facet axis that supports date, boolean, string, categorical columns', 'enum': ['checking_balance', 'credit_history', 'purpose', 'savings_balance', 'employment_duration', 'other_credit', 'housing', 'job', 'phone', 'default']}}\n",
      "['x_variable', 'y_variable']\n",
      "\n",
      "d4ce6ad5-5d94-4528-9395-c8d04ae7417e\n",
      "(scatter-3d) Shows the relationship between x axis variable (which can be a column of type numeric), y axis variable (which can be a column of type numeric), and z axis variable (which can be a column of type numeric). A 3D scatter plot is the best option when there are three numeric variables.\n",
      "{'x_variable': {'type': 'string', 'description': 'x axis that supports numeric columns', 'enum': ['months_loan_duration', 'amount', 'percent_of_income', 'years_at_residence', 'age', 'existing_loans_count', 'dependents']}, 'y_variable': {'type': 'string', 'description': 'y axis that supports numeric columns', 'enum': ['months_loan_duration', 'amount', 'percent_of_income', 'years_at_residence', 'age', 'existing_loans_count', 'dependents']}, 'z_variable': {'type': 'string', 'description': 'z axis that supports numeric columns', 'enum': ['months_loan_duration', 'amount', 'percent_of_income', 'years_at_residence', 'age', 'existing_loans_count', 'dependents']}, 'color_variable': {'type': 'string', 'description': 'color axis that supports numeric, date, boolean, string, categorical columns', 'enum': ['checking_balance', 'months_loan_duration', 'credit_history', 'purpose', 'amount', 'savings_balance', 'employment_duration', 'percent_of_income', 'years_at_residence', 'age', 'other_credit', 'housing', 'existing_loans_count', 'job', 'dependents', 'phone', 'default']}, 'size_variable': {'type': 'string', 'description': 'size axis that supports numeric columns', 'enum': ['months_loan_duration', 'amount', 'percent_of_income', 'years_at_residence', 'age', 'existing_loans_count', 'dependents']}}\n",
      "['x_variable', 'y_variable', 'z_variable']\n",
      "\n",
      "0a3430c0-bd53-4144-97ad-9c3a85659ba5\n",
      "(histogram) Shows the counts of x axis variable (which can be a column of type boolean, string, categorical). Histograms are useful for understanding the distribution of counts of non-numeric data.\n",
      "{'x_variable': {'type': 'string', 'description': 'x axis that supports boolean, string, categorical columns', 'enum': ['checking_balance', 'credit_history', 'purpose', 'savings_balance', 'employment_duration', 'other_credit', 'housing', 'job', 'phone', 'default']}, 'color_variable': {'type': 'string', 'description': 'color axis that supports numeric, date, boolean, string, categorical columns', 'enum': ['checking_balance', 'months_loan_duration', 'credit_history', 'purpose', 'amount', 'savings_balance', 'employment_duration', 'percent_of_income', 'years_at_residence', 'age', 'other_credit', 'housing', 'existing_loans_count', 'job', 'dependents', 'phone', 'default']}, 'facet_variable': {'type': 'string', 'description': 'facet axis that supports date, boolean, string, categorical columns', 'enum': ['checking_balance', 'credit_history', 'purpose', 'savings_balance', 'employment_duration', 'other_credit', 'housing', 'job', 'phone', 'default']}}\n",
      "['x_variable']\n",
      "\n",
      "3cdf9c51-040c-49d6-af3b-1f379f71416f\n",
      "(histogram) Shows the sum of y axis variable (which can be a column of type numeric) across each value of x axis variable (which can be a column of type boolean, string, categorical).\n",
      "{'x_variable': {'type': 'string', 'description': 'x axis that supports boolean, string, categorical columns', 'enum': ['checking_balance', 'credit_history', 'purpose', 'savings_balance', 'employment_duration', 'other_credit', 'housing', 'job', 'phone', 'default']}, 'y_variable': {'type': 'string', 'description': 'y axis that supports numeric columns', 'enum': ['months_loan_duration', 'amount', 'percent_of_income', 'years_at_residence', 'age', 'existing_loans_count', 'dependents']}, 'color_variable': {'type': 'string', 'description': 'color axis that supports numeric, date, boolean, string, categorical columns', 'enum': ['checking_balance', 'months_loan_duration', 'credit_history', 'purpose', 'amount', 'savings_balance', 'employment_duration', 'percent_of_income', 'years_at_residence', 'age', 'other_credit', 'housing', 'existing_loans_count', 'job', 'dependents', 'phone', 'default']}, 'facet_variable': {'type': 'string', 'description': 'facet axis that supports date, boolean, string, categorical columns', 'enum': ['checking_balance', 'credit_history', 'purpose', 'savings_balance', 'employment_duration', 'other_credit', 'housing', 'job', 'phone', 'default']}}\n",
      "['x_variable', 'y_variable']\n",
      "\n",
      "07efd7ad-b74b-468f-8169-4b4a8fca7210\n",
      "(P(Y | X)) Shows the probability of y axis variable (which can be a column of type boolean, string, categorical) given each value of x axis variable (which can be a column of type boolean, string, categorical).\n",
      "{'x_variable': {'type': 'string', 'description': 'x axis that supports boolean, string, categorical columns', 'enum': ['checking_balance', 'credit_history', 'purpose', 'savings_balance', 'employment_duration', 'other_credit', 'housing', 'job', 'phone', 'default']}, 'y_variable': {'type': 'string', 'description': 'y axis that supports boolean, string, categorical columns', 'enum': ['checking_balance', 'credit_history', 'purpose', 'savings_balance', 'employment_duration', 'other_credit', 'housing', 'job', 'phone', 'default']}, 'facet_variable': {'type': 'string', 'description': 'facet axis that supports boolean, string, categorical, numeric columns', 'enum': ['checking_balance', 'months_loan_duration', 'credit_history', 'purpose', 'amount', 'savings_balance', 'employment_duration', 'percent_of_income', 'years_at_residence', 'age', 'other_credit', 'housing', 'existing_loans_count', 'job', 'dependents', 'phone', 'default']}}\n",
      "['x_variable', 'y_variable']\n",
      "\n",
      "87e1e98f-fca8-485c-aeee-0adfaac00244\n",
      "(bar - count distinct) Shows the count of unique values of y axis variable (which can be a column of type boolean, string, categorical) for each x axis variable (which can be a column of type boolean, string, categorical).\n",
      "{'x_variable': {'type': 'string', 'description': 'x axis that supports boolean, string, categorical columns', 'enum': ['checking_balance', 'credit_history', 'purpose', 'savings_balance', 'employment_duration', 'other_credit', 'housing', 'job', 'phone', 'default']}, 'y_variable': {'type': 'string', 'description': 'y axis that supports boolean, string, categorical columns', 'enum': ['checking_balance', 'credit_history', 'purpose', 'savings_balance', 'employment_duration', 'other_credit', 'housing', 'job', 'phone', 'default']}, 'facet_variable': {'type': 'string', 'description': 'facet axis that supports boolean, string, categorical columns', 'enum': ['checking_balance', 'credit_history', 'purpose', 'savings_balance', 'employment_duration', 'other_credit', 'housing', 'job', 'phone', 'default']}, 'color_variable': {'type': 'string', 'description': 'color axis that supports boolean, string, categorical columns', 'enum': ['checking_balance', 'credit_history', 'purpose', 'savings_balance', 'employment_duration', 'other_credit', 'housing', 'job', 'phone', 'default']}}\n",
      "['x_variable', 'y_variable']\n",
      "\n",
      "f4f0f5fb-087b-4210-b74b-ce1c3d1c9359\n",
      "(heatmap) Heatmap of the aggregation of x axis variable (which can be a column of type boolean, string, categorical), y axis variable (which can be a column of type boolean, string, categorical), and z axis variable (which can be a column of type numeric). This plot shows the aggregation of a numeric variable across two non-numeric variables.\n",
      "{'x_variable': {'type': 'string', 'description': 'x axis that supports boolean, string, categorical columns', 'enum': ['checking_balance', 'credit_history', 'purpose', 'savings_balance', 'employment_duration', 'other_credit', 'housing', 'job', 'phone', 'default']}, 'y_variable': {'type': 'string', 'description': 'y axis that supports boolean, string, categorical columns', 'enum': ['checking_balance', 'credit_history', 'purpose', 'savings_balance', 'employment_duration', 'other_credit', 'housing', 'job', 'phone', 'default']}, 'z_variable': {'type': 'string', 'description': 'z axis that supports numeric columns', 'enum': ['months_loan_duration', 'amount', 'percent_of_income', 'years_at_residence', 'age', 'existing_loans_count', 'dependents']}, 'facet_variable': {'type': 'string', 'description': 'facet axis that supports boolean, string, categorical columns', 'enum': ['checking_balance', 'credit_history', 'purpose', 'savings_balance', 'employment_duration', 'other_credit', 'housing', 'job', 'phone', 'default']}}\n",
      "['x_variable', 'y_variable', 'z_variable']\n",
      "\n",
      "ae8c961d-0308-4c55-97c9-3a24b9ed6df5\n",
      "(heatmap - count distinct) Heatmap showing the count of distinct values of z axis variable (which can be a column of type boolean, string, categorical) for each combination of x axis variable (which can be a column of type boolean, string, categorical), y axis variable (which can be a column of type boolean, string, categorical). This plot shows the count of distinct values of a non-numeric variable across two non-numeric variables.\n",
      "{'x_variable': {'type': 'string', 'description': 'x axis that supports boolean, string, categorical columns', 'enum': ['checking_balance', 'credit_history', 'purpose', 'savings_balance', 'employment_duration', 'other_credit', 'housing', 'job', 'phone', 'default']}, 'y_variable': {'type': 'string', 'description': 'y axis that supports boolean, string, categorical columns', 'enum': ['checking_balance', 'credit_history', 'purpose', 'savings_balance', 'employment_duration', 'other_credit', 'housing', 'job', 'phone', 'default']}, 'z_variable': {'type': 'string', 'description': 'z axis that supports boolean, string, categorical columns', 'enum': ['checking_balance', 'credit_history', 'purpose', 'savings_balance', 'employment_duration', 'other_credit', 'housing', 'job', 'phone', 'default']}, 'facet_variable': {'type': 'string', 'description': 'facet axis that supports boolean, string, categorical columns', 'enum': ['checking_balance', 'credit_history', 'purpose', 'savings_balance', 'employment_duration', 'other_credit', 'housing', 'job', 'phone', 'default']}}\n",
      "['x_variable', 'y_variable', 'z_variable']\n",
      "\n"
     ]
    }
   ],
   "source": [
    "for tool in tools:\n",
    "    print(tool.name)\n",
    "    print(tool.description)\n",
    "    print(tool.inputs)\n",
    "    print(tool.required)\n",
    "    print()"
   ]
  },
  {
   "cell_type": "code",
   "execution_count": 14,
   "metadata": {},
   "outputs": [],
   "source": [
    "# prompt = \"Plot the counts of checking_balance on the x axis and credit_history on the y axis.\"\n",
    "# prompt = \"Plot the duration of the loan against the amount.\"\n",
    "# prompt = \"Plot the duration of the loan against the amount of the loan and age.\"\n",
    "prompt = \"Plot a 3d scatter the duration of the loan against the amount of the loan and age.\""
   ]
  },
  {
   "cell_type": "code",
   "execution_count": 7,
   "metadata": {},
   "outputs": [
    {
     "name": "stdout",
     "output_type": "stream",
     "text": [
      "\n",
      "The user is asking to create a plot based on the following column names and types. Infer\n",
      "the correct column names and the correct axes from the users question.\n",
      "Choose a tool that uses all of the columns listed by the user. Prioritize the required columns.\n",
      "\n",
      "Valid columns and types: \n",
      "\n",
      "checking_balance: string\n",
      "months_loan_duration: numeric\n",
      "credit_history: string\n",
      "purpose: string\n",
      "amount: numeric\n",
      "savings_balance: string\n",
      "employment_duration: string\n",
      "percent_of_income: numeric\n",
      "years_at_residence: numeric\n",
      "age: numeric\n",
      "other_credit: string\n",
      "housing: string\n",
      "existing_loans_count: numeric\n",
      "job: string\n",
      "dependents: numeric\n",
      "phone: string\n",
      "default: string\n",
      "\n",
      "User question: Plot a 3d scatter the duration of the loan against the amount of the loan and age.\n",
      "\n"
     ]
    },
    {
     "data": {
      "text/plain": [
       "[(<llm_workflow.agents.Tool at 0xffff632a4750>,\n",
       "  {'x_variable': 'months_loan_duration',\n",
       "   'y_variable': 'amount',\n",
       "   'z_variable': 'age'})]"
      ]
     },
     "execution_count": 7,
     "metadata": {},
     "output_type": "execute_result"
    }
   ],
   "source": [
    "agent = OpenAIFunctions(\n",
    "    model_name='gpt-3.5-turbo-1106',\n",
    "    tools=tools,\n",
    ")\n",
    "formatted_colum_names = '\\n'.join([f\"{k}: {v}\" for k, v in column_types.items()])\n",
    "template = f\"\"\"\n",
    "The user is asking to create a plot based on the following column names and types. Infer\n",
    "the correct column names and the correct axes from the users question.\n",
    "Choose a tool that uses all of the columns listed by the user. Prioritize the required columns.\n",
    "\n",
    "Valid columns and types: \n",
    "\n",
    "{formatted_colum_names}\n",
    "\n",
    "User question: {prompt}\n",
    "\"\"\"\n",
    "print(template)\n",
    "response = agent(template)\n",
    "response"
   ]
  },
  {
   "cell_type": "code",
   "execution_count": null,
   "metadata": {},
   "outputs": [],
   "source": []
  },
  {
   "cell_type": "code",
   "execution_count": 8,
   "metadata": {},
   "outputs": [
    {
     "name": "stdout",
     "output_type": "stream",
     "text": [
      "(scatter-3d) Shows the relationship between x axis variable (which can be a column of type numeric), y axis variable (which can be a column of type numeric), and z axis variable (which can be a column of type numeric). A 3D scatter plot is the best option when there are three numeric variables.\n",
      "['x_variable', 'y_variable', 'z_variable']\n",
      "{'x_variable': 'months_loan_duration', 'y_variable': 'amount', 'z_variable': 'age'}\n"
     ]
    }
   ],
   "source": [
    "tool, args = response[0]\n",
    "print(tool.description)\n",
    "print(tool.required)\n",
    "print(args)\n",
    "# tool.inputs|"
   ]
  },
  {
   "cell_type": "code",
   "execution_count": 11,
   "metadata": {},
   "outputs": [
    {
     "name": "stdout",
     "output_type": "stream",
     "text": [
      "Total Cost:           $0.00356\n",
      "Total Tokens:          3,507\n",
      "Total Prompt Tokens:   3,457\n",
      "Total Response Tokens: 50\n"
     ]
    }
   ],
   "source": [
    "print(f\"Total Cost:           ${agent.history()[0].cost:.5f}\")\n",
    "print(f\"Total Tokens:          {agent.history()[0].total_tokens:,}\")\n",
    "print(f\"Total Prompt Tokens:   {agent.history()[0].input_tokens:,}\")\n",
    "print(f\"Total Response Tokens: {agent.history()[0].response_tokens:,}\")"
   ]
  },
  {
   "cell_type": "code",
   "execution_count": 10,
   "metadata": {},
   "outputs": [
    {
     "ename": "IndexError",
     "evalue": "list index out of range",
     "output_type": "error",
     "traceback": [
      "\u001b[0;31m---------------------------------------------------------------------------\u001b[0m",
      "\u001b[0;31mIndexError\u001b[0m                                Traceback (most recent call last)",
      "\u001b[1;32m/code/source/notebooks/sandbox.ipynb Cell 13\u001b[0m line \u001b[0;36m1\n\u001b[0;32m----> <a href='vscode-notebook-cell://attached-container%2B7b22636f6e7461696e65724e616d65223a222f6578706c6f72652d646174612d626173682d31222c2273657474696e6773223a7b22636f6e74657874223a226465736b746f702d6c696e7578227d7d/code/source/notebooks/sandbox.ipynb#X53sdnNjb2RlLXJlbW90ZQ%3D%3D?line=0'>1</a>\u001b[0m tool, args \u001b[39m=\u001b[39m response[\u001b[39m1\u001b[39;49m]\n\u001b[1;32m      <a href='vscode-notebook-cell://attached-container%2B7b22636f6e7461696e65724e616d65223a222f6578706c6f72652d646174612d626173682d31222c2273657474696e6773223a7b22636f6e74657874223a226465736b746f702d6c696e7578227d7d/code/source/notebooks/sandbox.ipynb#X53sdnNjb2RlLXJlbW90ZQ%3D%3D?line=1'>2</a>\u001b[0m \u001b[39mprint\u001b[39m(tool\u001b[39m.\u001b[39mdescription)\n\u001b[1;32m      <a href='vscode-notebook-cell://attached-container%2B7b22636f6e7461696e65724e616d65223a222f6578706c6f72652d646174612d626173682d31222c2273657474696e6773223a7b22636f6e74657874223a226465736b746f702d6c696e7578227d7d/code/source/notebooks/sandbox.ipynb#X53sdnNjb2RlLXJlbW90ZQ%3D%3D?line=2'>3</a>\u001b[0m \u001b[39mprint\u001b[39m(args)\n",
      "\u001b[0;31mIndexError\u001b[0m: list index out of range"
     ]
    }
   ],
   "source": [
    "tool, args = response[1]\n",
    "print(tool.description)\n",
    "print(args)"
   ]
  },
  {
   "cell_type": "code",
   "execution_count": null,
   "metadata": {},
   "outputs": [],
   "source": []
  }
 ],
 "metadata": {
  "kernelspec": {
   "display_name": "Python 3",
   "language": "python",
   "name": "python3"
  },
  "language_info": {
   "codemirror_mode": {
    "name": "ipython",
    "version": 3
   },
   "file_extension": ".py",
   "mimetype": "text/x-python",
   "name": "python",
   "nbconvert_exporter": "python",
   "pygments_lexer": "ipython3",
   "version": "3.11.5"
  }
 },
 "nbformat": 4,
 "nbformat_minor": 2
}
