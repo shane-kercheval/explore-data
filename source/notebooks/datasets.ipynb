{
 "cells": [
  {
   "cell_type": "code",
   "execution_count": 5,
   "metadata": {},
   "outputs": [],
   "source": [
    "%run \"/code/source/notebooks/notebook_settings.py\"\n",
    "import pandas as pd\n",
    "from source.service.datasets import DATA"
   ]
  },
  {
   "cell_type": "code",
   "execution_count": 4,
   "metadata": {},
   "outputs": [
    {
     "data": {
      "text/plain": [
       "['credit', 'raw__credit']"
      ]
     },
     "execution_count": 4,
     "metadata": {},
     "output_type": "execute_result"
    }
   ],
   "source": [
    "DATA.datasets"
   ]
  },
  {
   "cell_type": "code",
   "execution_count": 3,
   "metadata": {},
   "outputs": [
    {
     "name": "stderr",
     "output_type": "stream",
     "text": [
      "2023-04-07 04:28:58 - INFO     | Loading data `credit` from `data/processed/credit.pkl`\n"
     ]
    },
    {
     "data": {
      "text/html": [
       "<div>\n",
       "<style scoped>\n",
       "    .dataframe tbody tr th:only-of-type {\n",
       "        vertical-align: middle;\n",
       "    }\n",
       "\n",
       "    .dataframe tbody tr th {\n",
       "        vertical-align: top;\n",
       "    }\n",
       "\n",
       "    .dataframe thead th {\n",
       "        text-align: right;\n",
       "    }\n",
       "</style>\n",
       "<table border=\"1\" class=\"dataframe tex2jax_ignore\">\n",
       "  <thead>\n",
       "    <tr style=\"text-align: right;\">\n",
       "      <th></th>\n",
       "      <th>checking_status</th>\n",
       "      <th>duration</th>\n",
       "      <th>credit_history</th>\n",
       "      <th>purpose</th>\n",
       "      <th>credit_amount</th>\n",
       "      <th>savings_status</th>\n",
       "      <th>employment</th>\n",
       "      <th>installment_commitment</th>\n",
       "      <th>personal_status</th>\n",
       "      <th>other_parties</th>\n",
       "      <th>residence_since</th>\n",
       "      <th>property_magnitude</th>\n",
       "      <th>age</th>\n",
       "      <th>other_payment_plans</th>\n",
       "      <th>housing</th>\n",
       "      <th>existing_credits</th>\n",
       "      <th>job</th>\n",
       "      <th>num_dependents</th>\n",
       "      <th>own_telephone</th>\n",
       "      <th>foreign_worker</th>\n",
       "      <th>target</th>\n",
       "    </tr>\n",
       "  </thead>\n",
       "  <tbody>\n",
       "    <tr>\n",
       "      <th>0</th>\n",
       "      <td>&lt;0</td>\n",
       "      <td>NaN</td>\n",
       "      <td>critical/other existing credit</td>\n",
       "      <td>radio/tv</td>\n",
       "      <td>1169.00</td>\n",
       "      <td>no known savings</td>\n",
       "      <td>&gt;=7</td>\n",
       "      <td>4.00</td>\n",
       "      <td>male single</td>\n",
       "      <td>none</td>\n",
       "      <td>4.00</td>\n",
       "      <td>real estate</td>\n",
       "      <td>67.00</td>\n",
       "      <td>none</td>\n",
       "      <td>own</td>\n",
       "      <td>2.00</td>\n",
       "      <td>skilled</td>\n",
       "      <td>1.00</td>\n",
       "      <td>yes</td>\n",
       "      <td>yes</td>\n",
       "      <td>good</td>\n",
       "    </tr>\n",
       "    <tr>\n",
       "      <th>1</th>\n",
       "      <td>0&lt;=X&lt;200</td>\n",
       "      <td>NaN</td>\n",
       "      <td>existing paid</td>\n",
       "      <td>radio/tv</td>\n",
       "      <td>5951.00</td>\n",
       "      <td>&lt;100</td>\n",
       "      <td>1&lt;=X&lt;4</td>\n",
       "      <td>2.00</td>\n",
       "      <td>female div/dep/mar</td>\n",
       "      <td>none</td>\n",
       "      <td>2.00</td>\n",
       "      <td>real estate</td>\n",
       "      <td>22.00</td>\n",
       "      <td>none</td>\n",
       "      <td>own</td>\n",
       "      <td>1.00</td>\n",
       "      <td>skilled</td>\n",
       "      <td>1.00</td>\n",
       "      <td>none</td>\n",
       "      <td>yes</td>\n",
       "      <td>bad</td>\n",
       "    </tr>\n",
       "    <tr>\n",
       "      <th>2</th>\n",
       "      <td>no checking</td>\n",
       "      <td>NaN</td>\n",
       "      <td>critical/other existing credit</td>\n",
       "      <td>education</td>\n",
       "      <td>2096.00</td>\n",
       "      <td>&lt;100</td>\n",
       "      <td>4&lt;=X&lt;7</td>\n",
       "      <td>2.00</td>\n",
       "      <td>male single</td>\n",
       "      <td>none</td>\n",
       "      <td>3.00</td>\n",
       "      <td>real estate</td>\n",
       "      <td>49.00</td>\n",
       "      <td>none</td>\n",
       "      <td>own</td>\n",
       "      <td>1.00</td>\n",
       "      <td>unskilled resident</td>\n",
       "      <td>2.00</td>\n",
       "      <td>none</td>\n",
       "      <td>yes</td>\n",
       "      <td>good</td>\n",
       "    </tr>\n",
       "    <tr>\n",
       "      <th>3</th>\n",
       "      <td>&lt;0</td>\n",
       "      <td>NaN</td>\n",
       "      <td>existing paid</td>\n",
       "      <td>furniture/equipment</td>\n",
       "      <td>7882.00</td>\n",
       "      <td>&lt;100</td>\n",
       "      <td>4&lt;=X&lt;7</td>\n",
       "      <td>2.00</td>\n",
       "      <td>male single</td>\n",
       "      <td>guarantor</td>\n",
       "      <td>4.00</td>\n",
       "      <td>life insurance</td>\n",
       "      <td>45.00</td>\n",
       "      <td>none</td>\n",
       "      <td>for free</td>\n",
       "      <td>1.00</td>\n",
       "      <td>skilled</td>\n",
       "      <td>2.00</td>\n",
       "      <td>none</td>\n",
       "      <td>yes</td>\n",
       "      <td>good</td>\n",
       "    </tr>\n",
       "    <tr>\n",
       "      <th>4</th>\n",
       "      <td>&lt;0</td>\n",
       "      <td>NaN</td>\n",
       "      <td>delayed previously</td>\n",
       "      <td>new car</td>\n",
       "      <td>4870.00</td>\n",
       "      <td>&lt;100</td>\n",
       "      <td>1&lt;=X&lt;4</td>\n",
       "      <td>3.00</td>\n",
       "      <td>male single</td>\n",
       "      <td>none</td>\n",
       "      <td>4.00</td>\n",
       "      <td>no known property</td>\n",
       "      <td>53.00</td>\n",
       "      <td>none</td>\n",
       "      <td>for free</td>\n",
       "      <td>2.00</td>\n",
       "      <td>skilled</td>\n",
       "      <td>2.00</td>\n",
       "      <td>none</td>\n",
       "      <td>yes</td>\n",
       "      <td>bad</td>\n",
       "    </tr>\n",
       "  </tbody>\n",
       "</table>\n",
       "</div>"
      ],
      "text/plain": [
       "  checking_status  duration                  credit_history   \n",
       "0              <0       NaN  critical/other existing credit  \\\n",
       "1        0<=X<200       NaN                   existing paid   \n",
       "2     no checking       NaN  critical/other existing credit   \n",
       "3              <0       NaN                   existing paid   \n",
       "4              <0       NaN              delayed previously   \n",
       "\n",
       "               purpose  credit_amount    savings_status employment   \n",
       "0             radio/tv        1169.00  no known savings        >=7  \\\n",
       "1             radio/tv        5951.00              <100     1<=X<4   \n",
       "2            education        2096.00              <100     4<=X<7   \n",
       "3  furniture/equipment        7882.00              <100     4<=X<7   \n",
       "4              new car        4870.00              <100     1<=X<4   \n",
       "\n",
       "   installment_commitment     personal_status other_parties  residence_since   \n",
       "0                    4.00         male single          none             4.00  \\\n",
       "1                    2.00  female div/dep/mar          none             2.00   \n",
       "2                    2.00         male single          none             3.00   \n",
       "3                    2.00         male single     guarantor             4.00   \n",
       "4                    3.00         male single          none             4.00   \n",
       "\n",
       "  property_magnitude   age other_payment_plans   housing  existing_credits   \n",
       "0        real estate 67.00                none       own              2.00  \\\n",
       "1        real estate 22.00                none       own              1.00   \n",
       "2        real estate 49.00                none       own              1.00   \n",
       "3     life insurance 45.00                none  for free              1.00   \n",
       "4  no known property 53.00                none  for free              2.00   \n",
       "\n",
       "                  job  num_dependents own_telephone foreign_worker target  \n",
       "0             skilled            1.00           yes            yes   good  \n",
       "1             skilled            1.00          none            yes    bad  \n",
       "2  unskilled resident            2.00          none            yes   good  \n",
       "3             skilled            2.00          none            yes   good  \n",
       "4             skilled            2.00          none            yes    bad  "
      ]
     },
     "execution_count": 3,
     "metadata": {},
     "output_type": "execute_result"
    }
   ],
   "source": [
    "credit = DATA.credit.load()\n",
    "credit.head()"
   ]
  },
  {
   "cell_type": "code",
   "execution_count": 6,
   "metadata": {},
   "outputs": [
    {
     "data": {
      "text/html": [
       "<style type=\"text/css\">\n",
       "</style>\n",
       "<table id=\"T_159e7\">\n",
       "  <thead>\n",
       "    <tr>\n",
       "      <th id=\"T_159e7_level0_col0\" class=\"col_heading level0 col0\" >dataset</th>\n",
       "      <th id=\"T_159e7_level0_col1\" class=\"col_heading level0 col1\" >description</th>\n",
       "    </tr>\n",
       "  </thead>\n",
       "  <tbody>\n",
       "    <tr>\n",
       "      <td id=\"T_159e7_row0_col0\" class=\"data row0 col0\" >credit</td>\n",
       "      <td id=\"T_159e7_row0_col1\" class=\"data row0 col1\" >credit data from https://www.openml.org/d/31</td>\n",
       "    </tr>\n",
       "    <tr>\n",
       "      <td id=\"T_159e7_row1_col0\" class=\"data row1 col0\" >raw__credit</td>\n",
       "      <td id=\"T_159e7_row1_col1\" class=\"data row1 col1\" >credit data from https://www.openml.org/d/31</td>\n",
       "    </tr>\n",
       "  </tbody>\n",
       "</table>\n"
      ],
      "text/plain": [
       "<pandas.io.formats.style.Styler at 0xffff60e87250>"
      ]
     },
     "execution_count": 6,
     "metadata": {},
     "output_type": "execute_result"
    }
   ],
   "source": [
    "pd.DataFrame(DATA.descriptions).style.hide(axis='index')"
   ]
  },
  {
   "cell_type": "code",
   "execution_count": 7,
   "metadata": {},
   "outputs": [
    {
     "data": {
      "text/html": [
       "<style type=\"text/css\">\n",
       "</style>\n",
       "<table id=\"T_1b073\">\n",
       "  <thead>\n",
       "    <tr>\n",
       "      <th id=\"T_1b073_level0_col0\" class=\"col_heading level0 col0\" >dataset</th>\n",
       "      <th id=\"T_1b073_level0_col1\" class=\"col_heading level0 col1\" >dependencies</th>\n",
       "    </tr>\n",
       "  </thead>\n",
       "  <tbody>\n",
       "    <tr>\n",
       "      <td id=\"T_1b073_row0_col0\" class=\"data row0 col0\" >credit</td>\n",
       "      <td id=\"T_1b073_row0_col1\" class=\"data row0 col1\" >['raw__credit']</td>\n",
       "    </tr>\n",
       "    <tr>\n",
       "      <td id=\"T_1b073_row1_col0\" class=\"data row1 col0\" >raw__credit</td>\n",
       "      <td id=\"T_1b073_row1_col1\" class=\"data row1 col1\" >[]</td>\n",
       "    </tr>\n",
       "  </tbody>\n",
       "</table>\n"
      ],
      "text/plain": [
       "<pandas.io.formats.style.Styler at 0xffff60e8a7d0>"
      ]
     },
     "execution_count": 7,
     "metadata": {},
     "output_type": "execute_result"
    }
   ],
   "source": [
    "pd.DataFrame(DATA.dependencies).style.hide(axis='index')"
   ]
  },
  {
   "attachments": {},
   "cell_type": "markdown",
   "metadata": {},
   "source": [
    "---"
   ]
  }
 ],
 "metadata": {
  "kernelspec": {
   "display_name": "Python 3",
   "language": "python",
   "name": "python3"
  },
  "language_info": {
   "codemirror_mode": {
    "name": "ipython",
    "version": 3
   },
   "file_extension": ".py",
   "mimetype": "text/x-python",
   "name": "python",
   "nbconvert_exporter": "python",
   "pygments_lexer": "ipython3",
   "version": "3.11.3"
  },
  "orig_nbformat": 4
 },
 "nbformat": 4,
 "nbformat_minor": 2
}
